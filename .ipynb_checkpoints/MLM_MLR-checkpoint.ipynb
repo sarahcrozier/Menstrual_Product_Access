{
 "cells": [
  {
   "cell_type": "code",
   "execution_count": null,
   "id": "756ccab1",
   "metadata": {},
   "outputs": [],
   "source": [
    "import numpy as np\n",
    "import pandas as pd\n",
    "from pathlib import Path\n",
    "from sklearn.linear_model import LinearRegression\n",
    "import matplotlib.pyplot as plt\n",
    "from sklearn.preprocessing import StandardScaler\n",
    "from sklearn.datasets import make_classification\n",
    "from sklearn.linear_model import LogisticRegression"
   ]
  },
  {
   "cell_type": "code",
   "execution_count": null,
   "id": "bf5d5c0b",
   "metadata": {},
   "outputs": [],
   "source": [
    "# Loading clustered dataset\n",
    "file = \"Resources/MLM/clustered_data.csv\"\n",
    "clustered_df = pd.read_csv(file, index_col=0)\n",
    "clustered_df.head(10)"
   ]
  },
  {
   "cell_type": "code",
   "execution_count": null,
   "id": "48d8a429",
   "metadata": {},
   "outputs": [],
   "source": [
    "clustered_df.dtypes"
   ]
  },
  {
   "cell_type": "code",
   "execution_count": null,
   "id": "a47c5a58",
   "metadata": {},
   "outputs": [],
   "source": [
    "#chc_df = pd.get_dummies(data = clustered_df.drop(columns=['PC 1','PC 2','PC 3']),\n",
    "#                        columns=['abortion_status','prescription_contraception',\n",
    "#                              'otc_methods','male_sterilization','female_sterilization','cost_sharing'])\n",
    "#chc_df"
   ]
  },
  {
   "cell_type": "code",
   "execution_count": null,
   "id": "866ae0b7",
   "metadata": {},
   "outputs": [],
   "source": [
    "chc_df = clustered_df[['total_community_health_centers','population','land_area_sqmi','Class']]\n",
    "chc_df"
   ]
  },
  {
   "cell_type": "code",
   "execution_count": null,
   "id": "50cc4033",
   "metadata": {},
   "outputs": [],
   "source": [
    "#chc_df = clustered_df[['PC 1','PC 2','PC 3','Class','total_community_health_centers']]"
   ]
  },
  {
   "cell_type": "code",
   "execution_count": null,
   "id": "35e7943f",
   "metadata": {},
   "outputs": [],
   "source": [
    "#training_df = chc_df[(chc_df['Class']==4) | (chc_df['Class']==2)]\n",
    "training_df = chc_df[chc_df['Class']==4]\n",
    "X_train = training_df.drop(columns='total_community_health_centers')\n",
    "y_train = training_df['total_community_health_centers']"
   ]
  },
  {
   "cell_type": "code",
   "execution_count": null,
   "id": "741dc8cf",
   "metadata": {},
   "outputs": [],
   "source": [
    "fit_df = chc_df\n",
    "X = fit_df.drop(columns=['total_community_health_centers'])\n",
    "y = fit_df[['total_community_health_centers']]"
   ]
  },
  {
   "cell_type": "code",
   "execution_count": null,
   "id": "6fec0b1c",
   "metadata": {},
   "outputs": [],
   "source": [
    "# Creating an object of LinearRegression class\n",
    "LR = LinearRegression()\n",
    "\n",
    "# Fitting the training data\n",
    "LR.fit(X_train, y_train)"
   ]
  },
  {
   "cell_type": "code",
   "execution_count": null,
   "id": "c067da46",
   "metadata": {},
   "outputs": [],
   "source": [
    "y_pred = LR.predict(X)\n",
    "y_pred"
   ]
  },
  {
   "cell_type": "code",
   "execution_count": null,
   "id": "3228f29a",
   "metadata": {},
   "outputs": [],
   "source": [
    "compare_df = y['total_community_health_centers'].to_frame()\n",
    "compare_df['predictions'] = y_pred.astype(int)\n",
    "compare_df['addl_chc_needed'] = compare_df['predictions'] - compare_df['total_community_health_centers']\n",
    "compare_df['Class'] = chc_df['Class']\n",
    "compare_df = compare_df[compare_df['addl_chc_needed']>0]\n",
    "compare_df.sort_values(by=['addl_chc_needed'],ascending=False)"
   ]
  },
  {
   "cell_type": "code",
   "execution_count": null,
   "id": "1b588c42",
   "metadata": {},
   "outputs": [],
   "source": []
  },
  {
   "cell_type": "code",
   "execution_count": null,
   "id": "cd71a9b4",
   "metadata": {},
   "outputs": [],
   "source": []
  }
 ],
 "metadata": {
  "kernelspec": {
   "display_name": "mlenv",
   "language": "python",
   "name": "mlenv"
  },
  "language_info": {
   "codemirror_mode": {
    "name": "ipython",
    "version": 3
   },
   "file_extension": ".py",
   "mimetype": "text/x-python",
   "name": "python",
   "nbconvert_exporter": "python",
   "pygments_lexer": "ipython3",
   "version": "3.7.13"
  }
 },
 "nbformat": 4,
 "nbformat_minor": 5
}
