{
 "cells": [
  {
   "cell_type": "code",
   "execution_count": null,
   "id": "8e7de8ab",
   "metadata": {},
   "outputs": [],
   "source": [
    "import numpy as np\n",
    "import pandas as pd\n",
    "from pathlib import Path\n",
    "from sklearn.linear_model import LinearRegression\n",
    "import matplotlib.pyplot as plt\n",
    "from sklearn.preprocessing import StandardScaler\n",
    "from sklearn.datasets import make_classification\n",
    "from sklearn.linear_model import LogisticRegression"
   ]
  },
  {
   "cell_type": "code",
   "execution_count": null,
   "id": "96da7116",
   "metadata": {},
   "outputs": [],
   "source": [
    "# Loading clustered dataset\n",
    "file = \"Resources/MLM/clustered_data.csv\"\n",
    "clustered_df = pd.read_csv(file, index_col=0)\n",
    "clustered_df.head(10)"
   ]
  },
  {
   "cell_type": "code",
   "execution_count": null,
   "id": "7f219555",
   "metadata": {},
   "outputs": [],
   "source": [
    "clustered_df.dtypes"
   ]
  },
  {
   "cell_type": "code",
   "execution_count": null,
   "id": "57eb018f",
   "metadata": {},
   "outputs": [],
   "source": [
    "#chc_df = pd.get_dummies(data = clustered_df.drop(columns=['PC 1','PC 2','PC 3']),\n",
    "#                        columns=['abortion_status','prescription_contraception',\n",
    "#                              'otc_methods','male_sterilization','female_sterilization','cost_sharing'])\n",
    "#chc_df"
   ]
  },
  {
   "cell_type": "code",
   "execution_count": null,
   "id": "e2676402",
   "metadata": {},
   "outputs": [],
   "source": [
    "chc_df = clustered_df[['total_community_health_centers','population','land_area_sqmi','Class']]\n",
    "chc_df"
   ]
  },
  {
   "cell_type": "code",
   "execution_count": null,
   "id": "2954195d",
   "metadata": {},
   "outputs": [],
   "source": [
    "#chc_df = clustered_df[['PC 1','PC 2','PC 3','Class','total_community_health_centers']]"
   ]
  },
  {
   "cell_type": "code",
   "execution_count": null,
   "id": "8354fbd6",
   "metadata": {},
   "outputs": [],
   "source": [
    "#training_df = chc_df[(chc_df['Class']==4) | (chc_df['Class']==2)]\n",
    "training_df = chc_df[chc_df['Class']==4]\n",
    "X_train = training_df.drop(columns='total_community_health_centers')\n",
    "y_train = training_df['total_community_health_centers']"
   ]
  },
  {
   "cell_type": "code",
   "execution_count": null,
   "id": "545bb03d",
   "metadata": {},
   "outputs": [],
   "source": [
    "fit_df = chc_df\n",
    "X = fit_df.drop(columns=['total_community_health_centers'])\n",
    "y = fit_df[['total_community_health_centers']]"
   ]
  },
  {
   "cell_type": "code",
   "execution_count": null,
   "id": "bb361bf5",
   "metadata": {},
   "outputs": [],
   "source": [
    "# Creating an object of LinearRegression class\n",
    "LR = LinearRegression()\n",
    "\n",
    "# Fitting the training data\n",
    "LR.fit(X_train, y_train)"
   ]
  },
  {
   "cell_type": "code",
   "execution_count": null,
   "id": "df96df97",
   "metadata": {},
   "outputs": [],
   "source": [
    "y_pred = LR.predict(X)\n",
    "y_pred"
   ]
  },
  {
   "cell_type": "code",
   "execution_count": null,
   "id": "bc17f2ab",
   "metadata": {},
   "outputs": [],
   "source": [
    "compare_df = y['total_community_health_centers'].to_frame()\n",
    "compare_df['predictions'] = y_pred.astype(int)\n",
    "compare_df['addl_chc_needed'] = compare_df['predictions'] - compare_df['total_community_health_centers']\n",
    "compare_df['Class'] = chc_df['Class']\n",
    "compare_df = compare_df[compare_df['addl_chc_needed']>0]\n",
    "compare_df.sort_values(by=['addl_chc_needed'],ascending=False)"
   ]
  },
  {
   "cell_type": "code",
   "execution_count": null,
   "id": "6ce39ccd",
   "metadata": {},
   "outputs": [],
   "source": []
  },
  {
   "cell_type": "code",
   "execution_count": null,
   "id": "53ae3b07",
   "metadata": {},
   "outputs": [],
   "source": []
  }
 ],
 "metadata": {
  "kernelspec": {
   "display_name": "mlenv",
   "language": "python",
   "name": "mlenv"
  },
  "language_info": {
   "codemirror_mode": {
    "name": "ipython",
    "version": 3
   },
   "file_extension": ".py",
   "mimetype": "text/x-python",
   "name": "python",
   "nbconvert_exporter": "python",
   "pygments_lexer": "ipython3",
   "version": "3.7.13"
  }
 },
 "nbformat": 4,
 "nbformat_minor": 5
}
